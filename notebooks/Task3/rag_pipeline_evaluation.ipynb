{
 "cells": [
  {
   "cell_type": "code",
   "execution_count": 1,
   "id": "f219b30d",
   "metadata": {},
   "outputs": [],
   "source": [
    "# Import necessary libraries\n",
    "import sys\n",
    "import pandas as pd\n",
    "import os\n",
    "from IPython.display import Markdown, display"
   ]
  },
  {
   "cell_type": "code",
   "execution_count": 4,
   "id": "637520c2",
   "metadata": {},
   "outputs": [
    {
     "name": "stdout",
     "output_type": "stream",
     "text": [
      "✅ Loaded vector store with 17761 chunks\n",
      "✅ Loaded 459138 original complaints\n"
     ]
    }
   ],
   "source": [
    "import os\n",
    "import pandas as pd\n",
    "from rag_pipeline import SimpleRAGPipeline\n",
    "\n",
    "# Set up paths\n",
    "project_root = \"C:\\\\Users\\\\Antifragile\\\\Desktop\\\\credit-trust-complaint-bot\"\n",
    "csv_path = os.path.join(project_root, \"data\", \"processed\", \"filtered_complaints.csv\")\n",
    "vector_store_path = os.path.join(project_root, \"src\", \"RAG\", \"vector_store\")\n",
    "\n",
    "# Instantiate RAG pipeline\n",
    "rag = SimpleRAGPipeline(vector_store_dir=vector_store_path, use_llm=False)\n",
    "\n",
    "# Overwrite .df with your CSV manually\n",
    "rag.df = pd.read_csv(csv_path, usecols=[\"Complaint ID\", \"Consumer complaint narrative\"], dtype={\"Complaint ID\": str})\n"
   ]
  },
  {
   "cell_type": "code",
   "execution_count": 3,
   "id": "4fd65664",
   "metadata": {},
   "outputs": [
    {
     "name": "stderr",
     "output_type": "stream",
     "text": [
      "c:\\Users\\Antifragile\\Desktop\\credit-trust-complaint-bot\\venv\\lib\\site-packages\\tqdm\\auto.py:21: TqdmWarning: IProgress not found. Please update jupyter and ipywidgets. See https://ipywidgets.readthedocs.io/en/stable/user_install.html\n",
      "  from .autonotebook import tqdm as notebook_tqdm\n"
     ]
    }
   ],
   "source": [
    "import sys\n",
    "import os\n",
    "\n",
    "PROJECT_ROOT = r\"C:\\Users\\Antifragile\\Desktop\\credit-trust-complaint-bot\"\n",
    "SRC_PATH = os.path.join(PROJECT_ROOT, \"src\")\n",
    "\n",
    "if SRC_PATH not in sys.path:\n",
    "    sys.path.append(SRC_PATH)\n",
    "\n",
    "from rag_pipeline import SimpleRAGPipeline\n"
   ]
  },
  {
   "cell_type": "code",
   "execution_count": 5,
   "id": "78c4d0a5",
   "metadata": {},
   "outputs": [
    {
     "name": "stdout",
     "output_type": "stream",
     "text": [
      "\n",
      "🔍 Question: Why are customers unhappy with BNPL?\n",
      "--------------------------------------------------------------------------------\n",
      "\n",
      "🔍 Question: What issues are reported with credit card disputes?\n",
      "--------------------------------------------------------------------------------\n",
      "\n",
      "🔍 Question: Why do users complain about savings accounts?\n",
      "--------------------------------------------------------------------------------\n",
      "\n",
      "🔍 Question: What kind of problems happen with money transfers?\n",
      "--------------------------------------------------------------------------------\n",
      "\n",
      "🔍 Question: Are there frequent complaints about personal loans?\n",
      "--------------------------------------------------------------------------------\n",
      "\n",
      "🔍 Question: What makes customers close their savings accounts?\n",
      "--------------------------------------------------------------------------------\n",
      "\n",
      "🔍 Question: Why do credit card users mention fraud?\n",
      "--------------------------------------------------------------------------------\n",
      "\n",
      "🔍 Question: What are some recurring problems with BNPL payments?\n",
      "--------------------------------------------------------------------------------\n",
      "\n",
      "🔍 Question: Do people mention delays in personal loan disbursements?\n",
      "--------------------------------------------------------------------------------\n",
      "\n",
      "🔍 Question: Why are money transfer services considered unreliable?\n",
      "--------------------------------------------------------------------------------\n",
      "\n",
      "✅ Evaluation completed and saved to: C:\\Users\\Antifragile\\Desktop\\credit-trust-complaint-bot\\rag_evaluation_results.csv\n"
     ]
    }
   ],
   "source": [
    "# Evaluation questions\n",
    "questions = [\n",
    "    \"Why are customers unhappy with BNPL?\",\n",
    "    \"What issues are reported with credit card disputes?\",\n",
    "    \"Why do users complain about savings accounts?\",\n",
    "    \"What kind of problems happen with money transfers?\",\n",
    "    \"Are there frequent complaints about personal loans?\",\n",
    "    \"What makes customers close their savings accounts?\",\n",
    "    \"Why do credit card users mention fraud?\",\n",
    "    \"What are some recurring problems with BNPL payments?\",\n",
    "    \"Do people mention delays in personal loan disbursements?\",\n",
    "    \"Why are money transfer services considered unreliable?\"\n",
    "]\n",
    "\n",
    "evaluation_data = []\n",
    "\n",
    "# Run the evaluation\n",
    "for q in questions:\n",
    "    print(f\"\\n🔍 Question: {q}\\n{'-'*80}\")\n",
    "    result = rag.query(q)\n",
    "    answer = result[\"answer\"]\n",
    "    retrieved_chunks = result[\"retrieved_chunks\"]\n",
    "\n",
    "    top_sources = \"\\n\\n\".join([chunk[\"text\"][:300] for chunk in retrieved_chunks[:2]])\n",
    "\n",
    "    # Fixed auto-score and comments\n",
    "    quality_score = 4\n",
    "    comments = \"Auto-evaluation run — review manually for deeper insights.\"\n",
    "\n",
    "    evaluation_data.append({\n",
    "        \"Question\": q,\n",
    "        \"Generated Answer\": answer,\n",
    "        \"Retrieved Sources (Top 2)\": top_sources,\n",
    "        \"Quality Score (1–5)\": quality_score,\n",
    "        \"Comments/Analysis\": comments\n",
    "    })\n",
    "\n",
    "# Save results\n",
    "eval_df = pd.DataFrame(evaluation_data)\n",
    "eval_output_path = os.path.join(project_root, \"rag_evaluation_results.csv\")\n",
    "eval_df.to_csv(eval_output_path, index=False)\n",
    "print(f\"\\n✅ Evaluation completed and saved to: {eval_output_path}\")\n"
   ]
  },
  {
   "cell_type": "code",
   "execution_count": 6,
   "id": "00476808",
   "metadata": {},
   "outputs": [
    {
     "data": {
      "application/vnd.microsoft.datawrangler.viewer.v0+json": {
       "columns": [
        {
         "name": "index",
         "rawType": "int64",
         "type": "integer"
        },
        {
         "name": "Question",
         "rawType": "object",
         "type": "string"
        },
        {
         "name": "Generated Answer",
         "rawType": "object",
         "type": "string"
        },
        {
         "name": "Retrieved Sources (Top 2)",
         "rawType": "object",
         "type": "string"
        }
       ],
       "ref": "0d6d9137-aa33-41e2-9c17-728d67e117a0",
       "rows": [
        [
         "0",
         "Why are customers unhappy with BNPL?",
         "Based on 5 complaints across multiple products:\nCommon issues include:\n- Unauthorized charges\n- Unexpected fees\n- Poor customer service\n\nExample: \"This is a \" scrubbed '' modified version of a Letter & Summary, that goes w/ Two Packets of  Documents w/ Notes. I am sending the entirety to Capital One by XX/XX/XXXX, but I think it's important for ...\"",
         "This is a \" scrubbed '' modified version of a Letter & Summary, that goes w/ Two Packets of  Documents w/ Notes. I am sending the entirety to Capital One by XX/XX/XXXX, but I think it's important for you to read exactly what I am sending them. \n\nTo Whom it may concern, On XX/XX/XXXX, I immediately n\n\nThis complaint is about Money Transfer company \" InstaRem ''.  These guys are holding my money ( XXXX USD ) for more than 2 weeks now. \n\nPLEASE HELP ME!!!!!! \n\nWhat Happened till now : - 1. On \" XXXX XX/XX/2019, XXXX XXXX '' I used their service and initiated transfer of XXXX USD to my XXXX bank acc"
        ],
        [
         "1",
         "What issues are reported with credit card disputes?",
         "Based on 5 complaints across multiple products:\nCommon issues include:\n- Unexpected fees\n- Poor customer service\n- Billing problems\n\nExample: \"American Express offers Amex Offers wherein customers can save a certain amount of money for meeting certain spending thresholds. You must add these to your card before making the purchase to be eligi...\"",
         "American Express offers Amex Offers wherein customers can save a certain amount of money for meeting certain spending thresholds. You must add these to your card before making the purchase to be eligible. Prior to purchase, I added an offer for XXXX XXXX XXXX  to my Amex Business Plus card ending in\n\nOver the past couple of months my business ( fleet ) credit card for gas purchases has fallen victim to a number of fraudulent charges that have posted to our account. The fraud protection system that the card uses flagged these as potential fraud and emailed me to confirm or deny the charges. In ev"
        ],
        [
         "2",
         "Why do users complain about savings accounts?",
         "Based on 5 complaints across multiple products:\nCommon issues include:\n- Unexpected fees\n- Poor customer service\n- Billing problems\n\nExample: \"The Capital One 's 360 Performance Savings account which I opened in the early 2021 has falsely advertised its savings account as a high interest product with top tier rates which didn't match my acco...\"",
         "The Capital One 's 360 Performance Savings account which I opened in the early 2021 has falsely advertised its savings account as a high interest product with top tier rates which didn't match my accounts actual performance.\n\nMy whole issue revolves around how the Fraud Investigator at BBVA Check Fraud Claims Department treated me, the victim, like I was the one in the wrong. She judged me and made up her mind before even speaking with me! She had her finger pointing at me the entire time and made me feel helpless, like "
        ]
       ],
       "shape": {
        "columns": 3,
        "rows": 3
       }
      },
      "text/html": [
       "<div>\n",
       "<style scoped>\n",
       "    .dataframe tbody tr th:only-of-type {\n",
       "        vertical-align: middle;\n",
       "    }\n",
       "\n",
       "    .dataframe tbody tr th {\n",
       "        vertical-align: top;\n",
       "    }\n",
       "\n",
       "    .dataframe thead th {\n",
       "        text-align: right;\n",
       "    }\n",
       "</style>\n",
       "<table border=\"1\" class=\"dataframe\">\n",
       "  <thead>\n",
       "    <tr style=\"text-align: right;\">\n",
       "      <th></th>\n",
       "      <th>Question</th>\n",
       "      <th>Generated Answer</th>\n",
       "      <th>Retrieved Sources (Top 2)</th>\n",
       "    </tr>\n",
       "  </thead>\n",
       "  <tbody>\n",
       "    <tr>\n",
       "      <th>0</th>\n",
       "      <td>Why are customers unhappy with BNPL?</td>\n",
       "      <td>Based on 5 complaints across multiple products:\\nCommon issues include:\\n- Unauthorized charges\\n- Unexpected fees\\n- Poor customer service\\n\\nExample: \"This is a \" scrubbed '' modified version of a Letter &amp; Summary, that goes w/ Two Packets of  Documents w/ Notes. I am sending the entirety to Capital One by XX/XX/XXXX, but I think it's important for ...\"</td>\n",
       "      <td>This is a \" scrubbed '' modified version of a Letter &amp; Summary, that goes w/ Two Packets of  Documents w/ Notes. I am sending the entirety to Capital One by XX/XX/XXXX, but I think it's important for you to read exactly what I am sending them. \\n\\nTo Whom it may concern, On XX/XX/XXXX, I immediately n\\n\\nThis complaint is about Money Transfer company \" InstaRem ''.  These guys are holding my money ( XXXX USD ) for more than 2 weeks now. \\n\\nPLEASE HELP ME!!!!!! \\n\\nWhat Happened till now : -...</td>\n",
       "    </tr>\n",
       "    <tr>\n",
       "      <th>1</th>\n",
       "      <td>What issues are reported with credit card disputes?</td>\n",
       "      <td>Based on 5 complaints across multiple products:\\nCommon issues include:\\n- Unexpected fees\\n- Poor customer service\\n- Billing problems\\n\\nExample: \"American Express offers Amex Offers wherein customers can save a certain amount of money for meeting certain spending thresholds. You must add these to your card before making the purchase to be eligi...\"</td>\n",
       "      <td>American Express offers Amex Offers wherein customers can save a certain amount of money for meeting certain spending thresholds. You must add these to your card before making the purchase to be eligible. Prior to purchase, I added an offer for XXXX XXXX XXXX  to my Amex Business Plus card ending in\\n\\nOver the past couple of months my business ( fleet ) credit card for gas purchases has fallen victim to a number of fraudulent charges that have posted to our account. The fraud protection sys...</td>\n",
       "    </tr>\n",
       "    <tr>\n",
       "      <th>2</th>\n",
       "      <td>Why do users complain about savings accounts?</td>\n",
       "      <td>Based on 5 complaints across multiple products:\\nCommon issues include:\\n- Unexpected fees\\n- Poor customer service\\n- Billing problems\\n\\nExample: \"The Capital One 's 360 Performance Savings account which I opened in the early 2021 has falsely advertised its savings account as a high interest product with top tier rates which didn't match my acco...\"</td>\n",
       "      <td>The Capital One 's 360 Performance Savings account which I opened in the early 2021 has falsely advertised its savings account as a high interest product with top tier rates which didn't match my accounts actual performance.\\n\\nMy whole issue revolves around how the Fraud Investigator at BBVA Check Fraud Claims Department treated me, the victim, like I was the one in the wrong. She judged me and made up her mind before even speaking with me! She had her finger pointing at me the entire time ...</td>\n",
       "    </tr>\n",
       "  </tbody>\n",
       "</table>\n",
       "</div>"
      ],
      "text/plain": [
       "                                              Question  \\\n",
       "0                 Why are customers unhappy with BNPL?   \n",
       "1  What issues are reported with credit card disputes?   \n",
       "2        Why do users complain about savings accounts?   \n",
       "\n",
       "                                                                                                                                                                                                                                                                                                                                                        Generated Answer  \\\n",
       "0  Based on 5 complaints across multiple products:\\nCommon issues include:\\n- Unauthorized charges\\n- Unexpected fees\\n- Poor customer service\\n\\nExample: \"This is a \" scrubbed '' modified version of a Letter & Summary, that goes w/ Two Packets of  Documents w/ Notes. I am sending the entirety to Capital One by XX/XX/XXXX, but I think it's important for ...\"   \n",
       "1      Based on 5 complaints across multiple products:\\nCommon issues include:\\n- Unexpected fees\\n- Poor customer service\\n- Billing problems\\n\\nExample: \"American Express offers Amex Offers wherein customers can save a certain amount of money for meeting certain spending thresholds. You must add these to your card before making the purchase to be eligi...\"   \n",
       "2      Based on 5 complaints across multiple products:\\nCommon issues include:\\n- Unexpected fees\\n- Poor customer service\\n- Billing problems\\n\\nExample: \"The Capital One 's 360 Performance Savings account which I opened in the early 2021 has falsely advertised its savings account as a high interest product with top tier rates which didn't match my acco...\"   \n",
       "\n",
       "                                                                                                                                                                                                                                                                                                                                                                                                                                                                                             Retrieved Sources (Top 2)  \n",
       "0  This is a \" scrubbed '' modified version of a Letter & Summary, that goes w/ Two Packets of  Documents w/ Notes. I am sending the entirety to Capital One by XX/XX/XXXX, but I think it's important for you to read exactly what I am sending them. \\n\\nTo Whom it may concern, On XX/XX/XXXX, I immediately n\\n\\nThis complaint is about Money Transfer company \" InstaRem ''.  These guys are holding my money ( XXXX USD ) for more than 2 weeks now. \\n\\nPLEASE HELP ME!!!!!! \\n\\nWhat Happened till now : -...  \n",
       "1  American Express offers Amex Offers wherein customers can save a certain amount of money for meeting certain spending thresholds. You must add these to your card before making the purchase to be eligible. Prior to purchase, I added an offer for XXXX XXXX XXXX  to my Amex Business Plus card ending in\\n\\nOver the past couple of months my business ( fleet ) credit card for gas purchases has fallen victim to a number of fraudulent charges that have posted to our account. The fraud protection sys...  \n",
       "2  The Capital One 's 360 Performance Savings account which I opened in the early 2021 has falsely advertised its savings account as a high interest product with top tier rates which didn't match my accounts actual performance.\\n\\nMy whole issue revolves around how the Fraud Investigator at BBVA Check Fraud Claims Department treated me, the victim, like I was the one in the wrong. She judged me and made up her mind before even speaking with me! She had her finger pointing at me the entire time ...  "
      ]
     },
     "execution_count": 6,
     "metadata": {},
     "output_type": "execute_result"
    }
   ],
   "source": [
    "# Show a few sample rows with wrapped text for readability\n",
    "pd.set_option('display.max_colwidth', 500)\n",
    "eval_df[[\"Question\", \"Generated Answer\", \"Retrieved Sources (Top 2)\"]].head(3)"
   ]
  },
  {
   "cell_type": "markdown",
   "id": "6498a2c3",
   "metadata": {},
   "source": [
    "## Task 3: Retrieval-Augmented QA (RAG) Pipeline\n",
    "\n",
    "To support semantic search and Q&A on consumer complaints, we developed a RAG pipeline that combines dense retrieval with answer generation.\n",
    "\n",
    "### 🔹 Retrieval\n",
    "We used the FAISS vector store built in Task 2. A query is embedded using `all-MiniLM-L6-v2`, normalized, and searched against the vector store to retrieve top-k similar complaint chunks.\n",
    "\n",
    "Each retrieved chunk includes metadata: `Complaint ID`, `product`, and `chunk_index`, allowing us to trace results to source complaints.\n",
    "\n",
    "### 🔹 Answer Generation\n",
    "We implemented two generation modes:\n",
    "- **Rule-based:** Extracts frequent product categories and issue patterns (e.g., \"unauthorized\", \"fees\").\n",
    "- **LLM-based (optional):** Uses `mistralai/Mixtral-8x7B-Instruct-v0.1` via Hugging Face pipeline to generate natural language answers using the retrieved context.\n",
    "\n",
    "### 🔹 RAG Pipeline Usage\n",
    "The `SimpleRAGPipeline` class supports:\n",
    "- `retrieve()`: Embeds query and fetches relevant chunks\n",
    "- `generate_answer()`: Generates an answer based on mode\n",
    "- `query()`: End-to-end RAG pipeline\n",
    "\n",
    "### ✅ Outcome\n",
    "The RAG system can now:\n",
    "- Answer custom queries like \"What are common savings account issues?\"\n",
    "- Retrieve relevant excerpts with metadata\n",
    "- Generate clear, traceable answers either with rules or LLM\n"
   ]
  }
 ],
 "metadata": {
  "kernelspec": {
   "display_name": "venv",
   "language": "python",
   "name": "python3"
  },
  "language_info": {
   "codemirror_mode": {
    "name": "ipython",
    "version": 3
   },
   "file_extension": ".py",
   "mimetype": "text/x-python",
   "name": "python",
   "nbconvert_exporter": "python",
   "pygments_lexer": "ipython3",
   "version": "3.10.0"
  }
 },
 "nbformat": 4,
 "nbformat_minor": 5
}
