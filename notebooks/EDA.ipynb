{
 "cells": [
  {
   "cell_type": "code",
   "execution_count": 1,
   "id": "3e3255bd",
   "metadata": {},
   "outputs": [],
   "source": [
    "import pandas as pd\n",
    "import numpy as np\n",
    "import matplotlib.pyplot as plt\n",
    "import seaborn as sns\n",
    "import re\n",
    "from collections import Counter\n",
    "import warnings\n",
    "warnings.filterwarnings('ignore')"
   ]
  },
  {
   "cell_type": "code",
   "execution_count": 4,
   "id": "7268e67a",
   "metadata": {},
   "outputs": [
    {
     "name": "stdout",
     "output_type": "stream",
     "text": [
      "=== CrediTrust Financial - Complaint Analysis ===\n",
      "Task 1: Exploratory Data Analysis and Data Preprocessing\n",
      "\n"
     ]
    }
   ],
   "source": [
    "# Set plotting style\n",
    "plt.style.use('default')\n",
    "sns.set_palette(\"husl\")\n",
    "\n",
    "print(\"=== CrediTrust Financial - Complaint Analysis ===\")\n",
    "print(\"Task 1: Exploratory Data Analysis and Data Preprocessing\\n\")"
   ]
  },
  {
   "cell_type": "code",
   "execution_count": 3,
   "id": "4070e8e0",
   "metadata": {},
   "outputs": [
    {
     "name": "stdout",
     "output_type": "stream",
     "text": [
      "1. Loading the complaint dataset...\n",
      "Dataset loaded: 9,609,797 rows, 18 columns\n"
     ]
    }
   ],
   "source": [
    "# Step 1: Load the data\n",
    "print(\"1. Loading the complaint dataset...\")\n",
    "df = pd.read_csv(r'C:\\Users\\Antifragile\\Desktop\\credit-trust-complaint-bot\\data\\complaints.csv')\n",
    "print(f\"Dataset loaded: {df.shape[0]:,} rows, {df.shape[1]} columns\")"
   ]
  },
  {
   "cell_type": "code",
   "execution_count": 5,
   "id": "e207b124",
   "metadata": {},
   "outputs": [
    {
     "name": "stdout",
     "output_type": "stream",
     "text": [
      "\n",
      "2. Basic Data Overview:\n",
      "Columns: ['Date received', 'Product', 'Sub-product', 'Issue', 'Sub-issue', 'Consumer complaint narrative', 'Company public response', 'Company', 'State', 'ZIP code', 'Tags', 'Consumer consent provided?', 'Submitted via', 'Date sent to company', 'Company response to consumer', 'Timely response?', 'Consumer disputed?', 'Complaint ID']\n",
      "Data types:\n",
      "Date received                   object\n",
      "Product                         object\n",
      "Sub-product                     object\n",
      "Issue                           object\n",
      "Sub-issue                       object\n",
      "Consumer complaint narrative    object\n",
      "Company public response         object\n",
      "Company                         object\n",
      "State                           object\n",
      "ZIP code                        object\n",
      "Tags                            object\n",
      "Consumer consent provided?      object\n",
      "Submitted via                   object\n",
      "Date sent to company            object\n",
      "Company response to consumer    object\n",
      "Timely response?                object\n",
      "Consumer disputed?              object\n",
      "Complaint ID                     int64\n",
      "dtype: object\n",
      "Memory usage: 13671.00 MB\n"
     ]
    }
   ],
   "source": [
    "# Step 2: Basic data overview\n",
    "print(\"\\n2. Basic Data Overview:\")\n",
    "print(f\"Columns: {list(df.columns)}\")\n",
    "print(f\"Data types:\\n{df.dtypes}\")\n",
    "print(f\"Memory usage: {df.memory_usage(deep=True).sum() / 1024**2:.2f} MB\")"
   ]
  },
  {
   "cell_type": "code",
   "execution_count": 6,
   "id": "e40328c0",
   "metadata": {},
   "outputs": [
    {
     "name": "stdout",
     "output_type": "stream",
     "text": [
      "\n",
      "3. Missing Values Analysis:\n",
      "                              Missing Count  Missing %\n",
      "Tags                                8981029  93.457011\n",
      "Consumer disputed?                  8841498  92.005044\n",
      "Consumer complaint narrative        6629041  68.982113\n",
      "Company public response             4770207  49.638999\n",
      "Consumer consent provided?          1649561  17.165409\n",
      "Sub-issue                            839522   8.736105\n",
      "Sub-product                          235295   2.448491\n",
      "State                                 54516   0.567296\n",
      "ZIP code                              30228   0.314554\n",
      "Company response to consumer             20   0.000208\n",
      "Issue                                     6   0.000062\n"
     ]
    }
   ],
   "source": [
    "# Step 3: Check for missing values\n",
    "print(\"\\n3. Missing Values Analysis:\")\n",
    "missing_info = df.isnull().sum()\n",
    "missing_pct = (missing_info / len(df)) * 100\n",
    "missing_df = pd.DataFrame({\n",
    "    'Missing Count': missing_info,\n",
    "    'Missing %': missing_pct\n",
    "}).sort_values('Missing %', ascending=False)\n",
    "print(missing_df[missing_df['Missing Count'] > 0])"
   ]
  },
  {
   "cell_type": "code",
   "execution_count": 7,
   "id": "421cd767",
   "metadata": {},
   "outputs": [
    {
     "name": "stdout",
     "output_type": "stream",
     "text": [
      "\n",
      "4. Product Distribution Analysis:\n",
      "Total unique products: 21\n",
      "Top 10 products:\n",
      "Product\n",
      "Credit reporting or other personal consumer reports                             4834855\n",
      "Credit reporting, credit repair services, or other personal consumer reports    2163857\n",
      "Debt collection                                                                  799197\n",
      "Mortgage                                                                         422254\n",
      "Checking or savings account                                                      291178\n",
      "Credit card                                                                      226686\n",
      "Credit card or prepaid card                                                      206369\n",
      "Money transfer, virtual currency, or money service                               145066\n",
      "Credit reporting                                                                 140429\n",
      "Student loan                                                                     109717\n",
      "Name: count, dtype: int64\n"
     ]
    }
   ],
   "source": [
    "# Step 4: Product distribution analysis\n",
    "print(\"\\n4. Product Distribution Analysis:\")\n",
    "product_counts = df['Product'].value_counts()\n",
    "print(f\"Total unique products: {len(product_counts)}\")\n",
    "print(f\"Top 10 products:\")\n",
    "print(product_counts.head(10))"
   ]
  },
  {
   "cell_type": "code",
   "execution_count": 8,
   "id": "ae279316",
   "metadata": {},
   "outputs": [
    {
     "name": "stdout",
     "output_type": "stream",
     "text": [
      "\n",
      "5. Target Products Analysis:\n",
      "Looking for: ['Credit card', 'Personal loan', 'Buy Now, Pay Later (BNPL)', 'Savings account', 'Money transfers']\n",
      "✓ Credit card: 226,686 complaints\n",
      "✗ Personal loan: Not found in data\n",
      "✗ Buy Now, Pay Later (BNPL): Not found in data\n",
      "✗ Savings account: Not found in data\n",
      "✓ Money transfers: 5,354 complaints\n"
     ]
    }
   ],
   "source": [
    "# Step 5: Focus on our target products\n",
    "target_products = [\n",
    "    'Credit card',\n",
    "    'Personal loan', \n",
    "    'Buy Now, Pay Later (BNPL)',\n",
    "    'Savings account',\n",
    "    'Money transfers'\n",
    "]\n",
    "\n",
    "print(f\"\\n5. Target Products Analysis:\")\n",
    "print(f\"Looking for: {target_products}\")\n",
    "# Check which target products exist in the data\n",
    "available_products = []\n",
    "for product in target_products:\n",
    "    if product in df['Product'].values:\n",
    "        count = (df['Product'] == product).sum()\n",
    "        available_products.append(product)\n",
    "        print(f\"✓ {product}: {count:,} complaints\")\n",
    "    else:\n",
    "        print(f\"✗ {product}: Not found in data\")"
   ]
  },
  {
   "cell_type": "code",
   "execution_count": 9,
   "id": "c40aa2b6",
   "metadata": {},
   "outputs": [
    {
     "name": "stdout",
     "output_type": "stream",
     "text": [
      "Product\n",
      "Credit reporting or other personal consumer reports                             4834855\n",
      "Credit reporting, credit repair services, or other personal consumer reports    2163857\n",
      "Debt collection                                                                  799197\n",
      "Mortgage                                                                         422254\n",
      "Checking or savings account                                                      291178\n",
      "Credit card                                                                      226686\n",
      "Credit card or prepaid card                                                      206369\n",
      "Money transfer, virtual currency, or money service                               145066\n",
      "Credit reporting                                                                 140429\n",
      "Student loan                                                                     109717\n",
      "Bank account or service                                                           86205\n",
      "Vehicle loan or lease                                                             72957\n",
      "Consumer Loan                                                                     31574\n",
      "Payday loan, title loan, or personal loan                                         30641\n",
      "Payday loan, title loan, personal loan, or advance loan                           16514\n",
      "Prepaid card                                                                      15280\n",
      "Payday loan                                                                        5541\n",
      "Money transfers                                                                    5354\n",
      "Debt or credit management                                                          5047\n",
      "Other financial service                                                            1058\n",
      "Name: count, dtype: int64\n"
     ]
    }
   ],
   "source": [
    "print(df['Product'].value_counts().head(20))\n"
   ]
  },
  {
   "cell_type": "code",
   "execution_count": 10,
   "id": "144b6b57",
   "metadata": {},
   "outputs": [
    {
     "data": {
      "text/plain": [
       "(190, 18)"
      ]
     },
     "execution_count": 10,
     "metadata": {},
     "output_type": "execute_result"
    }
   ],
   "source": [
    "# Check if 'buy now' or 'BNPL' appears in any complaint text\n",
    "df[df['Consumer complaint narrative'].str.contains(\"buy now|bnpl\", case=False, na=False)].shape\n"
   ]
  },
  {
   "cell_type": "code",
   "execution_count": 28,
   "id": "98865e78",
   "metadata": {},
   "outputs": [
    {
     "name": "stdout",
     "output_type": "stream",
     "text": [
      "\n",
      "5. Exploring Available Products:\n",
      "All unique products in the dataset:\n",
      "Product\n",
      "credit reporting or other personal consumer reports                             4834855\n",
      "credit reporting, credit repair services, or other personal consumer reports    2163857\n",
      "debt collection                                                                  799197\n",
      "mortgage                                                                         422254\n",
      "checking or savings account                                                      291178\n",
      "credit card                                                                      226686\n",
      "credit card or prepaid card                                                      206369\n",
      "money transfer, virtual currency, or money service                               145066\n",
      "credit reporting                                                                 140429\n",
      "student loan                                                                     109717\n",
      "bank account or service                                                           86205\n",
      "vehicle loan or lease                                                             72957\n",
      "consumer loan                                                                     31574\n",
      "payday loan, title loan, or personal loan                                         30641\n",
      "payday loan, title loan, personal loan, or advance loan                           16514\n",
      "prepaid card                                                                      15280\n",
      "payday loan                                                                        5541\n",
      "money transfers                                                                    5354\n",
      "debt or credit management                                                          5047\n",
      "other financial service                                                            1058\n",
      "virtual currency                                                                     18\n",
      "Name: count, dtype: int64\n",
      "\n",
      "All unique sub-products (first 20):\n",
      "Sub-product\n",
      "credit reporting                              6955847\n",
      "checking account                               293297\n",
      "general-purpose credit card or charge card     281931\n",
      "i do not know                                  248891\n",
      "                                               235295\n",
      "other debt                                     147439\n",
      "credit card debt                               134074\n",
      "conventional home mortgage                     118185\n",
      "other mortgage                                  86627\n",
      "domestic (us) money transfer                    76302\n",
      "conventional fixed mortgage                     70605\n",
      "medical debt                                    67518\n",
      "federal student loan servicing                  66801\n",
      "loan                                            62307\n",
      "fha mortgage                                    55602\n",
      "other (i.e. phone, health club, etc.)           44522\n",
      "store credit card                               42362\n",
      "other personal consumer report                  37798\n",
      "mobile or digital wallet                        37422\n",
      "installment loan                                30734\n",
      "Name: count, dtype: int64\n",
      "\n",
      "6. Target Products Analysis:\n",
      "Looking for our target products...\n",
      "✓ Credit card: 433,055 complaints\n",
      "  Found in: ['credit card', 'credit card or prepaid card']\n",
      "✓ Personal loan: 5,541 complaints\n",
      "  Found in: ['payday loan']\n",
      "✗ Buy Now, Pay Later (BNPL): Not found in main Product column\n",
      "✓ Savings account: 291,178 complaints\n",
      "  Found in: ['checking or savings account']\n",
      "✓ Money transfers: 150,420 complaints\n",
      "  Found in: ['money transfers', 'money transfer, virtual currency, or money service']\n",
      "\n",
      "7. Special BNPL Analysis:\n",
      "Complaints mentioning BNPL-related terms in narratives: 20,597\n",
      "\n",
      "8. Checking Sub-products for our targets:\n"
     ]
    }
   ],
   "source": [
    "# Step 5: First, let's see what products actually exist in the data\n",
    "print(f\"\\n5. Exploring Available Products:\")\n",
    "print(\"All unique products in the dataset:\")\n",
    "all_products = df['Product'].value_counts()\n",
    "print(all_products)\n",
    "\n",
    "print(f\"\\nAll unique sub-products (first 20):\")\n",
    "all_subproducts = df['Sub-product'].value_counts()\n",
    "print(all_subproducts.head(20))\n",
    "\n",
    "# Now let's map our target products to what's actually in the data\n",
    "target_mapping = {\n",
    "    'Credit card': ['Credit card', 'Credit card or prepaid card'],\n",
    "    'Personal loan': ['Personal loan', 'Payday loan', 'Installment loan'],\n",
    "    'Buy Now, Pay Later (BNPL)': ['Buy Now, Pay Later (BNPL)'],  \n",
    "    'Savings account': ['Savings account', 'Checking or savings account'],\n",
    "    'Money transfers': ['Money transfers', 'Money transfer, virtual currency, or money service']\n",
    "}\n",
    "\n",
    "print(f\"\\n6. Target Products Analysis:\")\n",
    "print(f\"Looking for our target products...\")\n",
    "\n",
    "# Check which target products exist in the data\n",
    "available_products = []\n",
    "final_product_mapping = {}\n",
    "\n",
    "for target_product, possible_matches in target_mapping.items():\n",
    "    found_matches = []\n",
    "    total_count = 0\n",
    "    \n",
    "    for possible_match in possible_matches:\n",
    "        # Check exact match\n",
    "        if possible_match in df['Product'].values:\n",
    "            count = (df['Product'] == possible_match).sum()\n",
    "            if count > 0:\n",
    "                found_matches.append(possible_match)\n",
    "                total_count += count\n",
    "        \n",
    "        # Check case-insensitive match\n",
    "        case_insensitive_match = df['Product'].str.lower().eq(possible_match.lower())\n",
    "        if case_insensitive_match.any():\n",
    "            actual_product = df[case_insensitive_match]['Product'].iloc[0]\n",
    "            if actual_product not in found_matches:\n",
    "                count = case_insensitive_match.sum()\n",
    "                found_matches.append(actual_product)\n",
    "                total_count += count\n",
    "    \n",
    "    if found_matches:\n",
    "        available_products.extend(found_matches)\n",
    "        final_product_mapping[target_product] = found_matches\n",
    "        print(f\"✓ {target_product}: {total_count:,} complaints\")\n",
    "        print(f\"  Found in: {found_matches}\")\n",
    "    else:\n",
    "        print(f\"✗ {target_product}: Not found in main Product column\")\n",
    "\n",
    "# Special check for BNPL in narratives since you found 190 mentions\n",
    "print(f\"\\n7. Special BNPL Analysis:\")\n",
    "bnpl_patterns = ['bnpl', 'buy now pay later', 'buy now, pay later', 'klarna', 'afterpay', 'affirm']\n",
    "bnpl_in_narratives = df['Consumer complaint narrative'].fillna('').str.lower().str.contains('|'.join(bnpl_patterns))\n",
    "bnpl_count = bnpl_in_narratives.sum()\n",
    "print(f\"Complaints mentioning BNPL-related terms in narratives: {bnpl_count:,}\")\n",
    "\n",
    "# Check sub-products for our targets\n",
    "print(f\"\\n8. Checking Sub-products for our targets:\")\n",
    "subproduct_targets = [\n",
    "    'personal loan', 'installment loan', 'payday loan',\n",
    "    'checking account', 'savings account', \n",
    "    'domestic (us) money transfer', 'international money transfer'\n",
    "]\n",
    "\n",
    "def check_subproducts_chunked(df, targets, chunk_size=100000):\n",
    "    results = {}\n",
    "    subproduct_series = df['Sub-product'].fillna('').str.lower()\n",
    "\n",
    "    for target in targets:\n",
    "        target_lower = target.lower()\n",
    "        total_count = 0\n",
    "        \n",
    "        for chunk_start in range(0, len(df), chunk_size):\n",
    "            chunk_end = min(chunk_start + chunk_size, len(df))\n",
    "            chunk = subproduct_series.iloc[chunk_start:chunk_end]\n",
    "            \n",
    "            matches = chunk.str.contains(target_lower)\n",
    "            total_count += matches.sum()\n",
    "        \n",
    "        results[target] = total_count\n",
    "\n",
    "    return results\n",
    "\n",
    "\n",
    "# Get all unique actual products to work with\n",
    "all_available_products = list(set(available_products))\n"
   ]
  },
  {
   "cell_type": "code",
   "execution_count": 11,
   "id": "24106018",
   "metadata": {},
   "outputs": [
    {
     "name": "stdout",
     "output_type": "stream",
     "text": [
      "\n",
      "6. Complaint Narrative Analysis:\n",
      "Total complaints: 9,609,797\n",
      "Complaints with narratives: 2,980,756\n",
      "Complaints without narratives: 6,629,041\n",
      "Percentage with narratives: 31.0%\n"
     ]
    }
   ],
   "source": [
    "# Step 6: Analyze complaint narratives\n",
    "print(f\"\\n6. Complaint Narrative Analysis:\")\n",
    "print(f\"Total complaints: {len(df):,}\")\n",
    "print(f\"Complaints with narratives: {df['Consumer complaint narrative'].notna().sum():,}\")\n",
    "print(f\"Complaints without narratives: {df['Consumer complaint narrative'].isna().sum():,}\")\n",
    "print(f\"Percentage with narratives: {(df['Consumer complaint narrative'].notna().sum() / len(df)) * 100:.1f}%\")"
   ]
  },
  {
   "cell_type": "code",
   "execution_count": 13,
   "id": "445eef49",
   "metadata": {},
   "outputs": [
    {
     "name": "stdout",
     "output_type": "stream",
     "text": [
      "\n",
      "7. Narrative Length Statistics:\n",
      "Mean word count: 175.6\n",
      "Median word count: 114.0\n",
      "Min word count: 1\n",
      "Max word count: 6469\n",
      "Standard deviation: 225.9\n"
     ]
    }
   ],
   "source": [
    "# step7 Analyze narrative lengths\n",
    "narratives_with_text = df['Consumer complaint narrative'].dropna()\n",
    "if len(narratives_with_text) > 0:\n",
    "    word_counts = narratives_with_text.apply(lambda x: len(str(x).split()))\n",
    "    \n",
    "    print(f\"\\n7. Narrative Length Statistics:\")\n",
    "    print(f\"Mean word count: {word_counts.mean():.1f}\")\n",
    "    print(f\"Median word count: {word_counts.median():.1f}\")\n",
    "    print(f\"Min word count: {word_counts.min()}\")\n",
    "    print(f\"Max word count: {word_counts.max()}\")\n",
    "    print(f\"Standard deviation: {word_counts.std():.1f}\")"
   ]
  },
  {
   "cell_type": "code",
   "execution_count": 14,
   "id": "783e8a45",
   "metadata": {},
   "outputs": [
    {
     "name": "stdout",
     "output_type": "stream",
     "text": [
      "\n",
      "8. Creating Product Filter:\n",
      "Results of filtering:\n",
      "Original dataset: 9,609,797 rows\n",
      "After filtering: 980,814 rows\n",
      "\n",
      "Breakdown by our target categories:\n",
      "  Credit card: 433,055\n",
      "  Savings account: 355,149\n",
      "  Money transfers: 150,212\n",
      "  Personal loan: 22,700\n",
      "  Buy Now, Pay Later (BNPL): 19,698\n",
      "\n",
      "Personal loan breakdown:\n",
      "Product                                                  Sub-product\n",
      "Debt collection                                          Payday loan    7545\n",
      "Payday loan, title loan, or personal loan                Payday loan    6973\n",
      "Payday loan, title loan, personal loan, or advance loan  Payday loan    2641\n",
      "Name: count, dtype: int64\n",
      "Runtime: 396.90 seconds\n"
     ]
    }
   ],
   "source": [
    "#step8 creating product filter\n",
    "import time\n",
    "\n",
    "print(\"\\n8. Creating Product Filter:\")\n",
    "\n",
    "# Start time\n",
    "start_time = time.time()\n",
    "\n",
    "\n",
    "# Optimize data types\n",
    "df['Product'] = df['Product'].astype('category')\n",
    "df['Sub-product'] = df['Sub-product'].astype('category')\n",
    "\n",
    "# Preprocess narrative once\n",
    "narrative_lower = df['Consumer complaint narrative'].fillna('').str.lower()\n",
    "\n",
    "# Define conditions with exact matches\n",
    "credit_card_condition = (\n",
    "    df['Product'].str.contains(r'^Credit card$|^Credit card or prepaid card$', case=False, na=False, regex=True) |\n",
    "    df['Sub-product'].str.contains(r'^General-purpose credit card$|^Store credit card$', case=False, na=False, regex=True)\n",
    ")\n",
    "personal_loan_condition = (\n",
    "    df['Product'].str.contains(r'^Payday loan$|^Personal loan$', case=False, na=False, regex=True) |\n",
    "    df['Sub-product'].str.contains(r'^Personal loan$|^Payday loan$', case=False, na=False, regex=True)\n",
    ")\n",
    "bnpl_condition = narrative_lower.str.contains(\n",
    "    r'bnpl|buy now pay later|buy now, pay later|klarna|afterpay|affirm|sezzle|quadpay', na=False\n",
    ")\n",
    "savings_condition = (\n",
    "    df['Product'].str.contains(r'^Checking or savings account$', case=False, na=False, regex=True) |\n",
    "    df['Sub-product'].str.contains(r'^Savings account$|^Checking account$', case=False, na=False, regex=True)\n",
    ")\n",
    "money_transfer_condition = (\n",
    "    df['Product'].str.contains(r'^Money transfer$|^Money transfers$|^Money transfer, virtual currency, or money service$', case=False, na=False, regex=True) |\n",
    "    df['Sub-product'].str.contains(r'^Domestic money transfer$|^International money transfer$|^Mobile or digital wallet$', case=False, na=False, regex=True)\n",
    ")\n",
    "\n",
    "# Combine conditions\n",
    "combined_condition = (\n",
    "    credit_card_condition |\n",
    "    personal_loan_condition |\n",
    "    bnpl_condition |\n",
    "    savings_condition |\n",
    "    money_transfer_condition\n",
    ")\n",
    "\n",
    "# Filter\n",
    "filtered_df = df[combined_condition].copy()\n",
    "\n",
    "# Vectorized category assignment with mutual exclusivity\n",
    "conditions = [\n",
    "    credit_card_condition[filtered_df.index],\n",
    "    personal_loan_condition[filtered_df.index] & ~credit_card_condition[filtered_df.index],\n",
    "    bnpl_condition[filtered_df.index] & ~(credit_card_condition[filtered_df.index] | personal_loan_condition[filtered_df.index]),\n",
    "    savings_condition[filtered_df.index] & ~(credit_card_condition[filtered_df.index] | personal_loan_condition[filtered_df.index] | bnpl_condition[filtered_df.index]),\n",
    "    money_transfer_condition[filtered_df.index] & ~(credit_card_condition[filtered_df.index] | personal_loan_condition[filtered_df.index] | bnpl_condition[filtered_df.index] | savings_condition[filtered_df.index])\n",
    "]\n",
    "choices = ['Credit card', 'Personal loan', 'Buy Now, Pay Later (BNPL)', 'Savings account', 'Money transfers']\n",
    "filtered_df['Product_Category'] = np.select(conditions, choices, default='Other')\n",
    "\n",
    "# Print results\n",
    "print(f\"Results of filtering:\")\n",
    "print(f\"Original dataset: {len(df):,} rows\")\n",
    "print(f\"After filtering: {len(filtered_df):,} rows\\n\")\n",
    "print(f\"Breakdown by our target categories:\")\n",
    "category_counts = filtered_df['Product_Category'].value_counts()\n",
    "for category, count in category_counts.items():\n",
    "    print(f\"  {category}: {count:,}\")\n",
    "\n",
    "# Inspect Personal loan for over-counting\n",
    "print(\"\\nPersonal loan breakdown:\")\n",
    "print(filtered_df[filtered_df['Product_Category'] == 'Personal loan'][['Product', 'Sub-product']].value_counts().head())\n",
    "\n",
    "# Print runtime\n",
    "print(f\"Runtime: {(time.time() - start_time):.2f} seconds\")"
   ]
  },
  {
   "cell_type": "code",
   "execution_count": 15,
   "id": "9bb986eb",
   "metadata": {},
   "outputs": [
    {
     "name": "stdout",
     "output_type": "stream",
     "text": [
      "\n",
      "9. Filtering Data for Target Products:\n"
     ]
    }
   ],
   "source": [
    "# Step 9: Filter data for our target products\n",
    "print(f\"\\n9. Filtering Data for Target Products:\")\n",
    "filtered_df = filtered_df[filtered_df['Product_Category'] != 'Other'].copy()"
   ]
  },
  {
   "cell_type": "code",
   "execution_count": 16,
   "id": "d882054b",
   "metadata": {},
   "outputs": [
    {
     "name": "stdout",
     "output_type": "stream",
     "text": [
      "After category filtering: 980,814 rows\n",
      "After removing empty narratives: 468,059 rows\n"
     ]
    }
   ],
   "source": [
    "# Step 10: Continue with narrative filtering and cleaning\n",
    "print(f\"After category filtering: {len(filtered_df):,} rows\")\n",
    "# Remove rows with empty narratives\n",
    "filtered_df = filtered_df[filtered_df['Consumer complaint narrative'].notna()].copy()\n",
    "print(f\"After removing empty narratives: {len(filtered_df):,} rows\")"
   ]
  },
  {
   "cell_type": "code",
   "execution_count": 17,
   "id": "a94c9cd4",
   "metadata": {},
   "outputs": [
    {
     "name": "stderr",
     "output_type": "stream",
     "text": [
      "[nltk_data] Downloading package stopwords to\n",
      "[nltk_data]     C:\\Users\\Antifragile\\AppData\\Roaming\\nltk_data...\n",
      "[nltk_data]   Package stopwords is already up-to-date!\n",
      "[nltk_data] Downloading package wordnet to\n",
      "[nltk_data]     C:\\Users\\Antifragile\\AppData\\Roaming\\nltk_data...\n",
      "[nltk_data]   Package wordnet is already up-to-date!\n"
     ]
    },
    {
     "name": "stdout",
     "output_type": "stream",
     "text": [
      "\n",
      "13. Cleaning Narrative Text:\n",
      "After removing narratives with < 10 words: 459,138 rows\n"
     ]
    }
   ],
   "source": [
    "# Step 11: Text preprocessing function\n",
    "import nltk\n",
    "from nltk.corpus import stopwords\n",
    "from nltk.stem import WordNetLemmatizer\n",
    "\n",
    "# One-time setup (only needed once)\n",
    "nltk.download('stopwords')\n",
    "nltk.download('wordnet')\n",
    "\n",
    "stop_words = set(stopwords.words('english'))\n",
    "lemmatizer = WordNetLemmatizer()\n",
    "\n",
    "def clean_narrative(text):\n",
    "    \"\"\"Clean complaint narrative text for RAG processing\"\"\"\n",
    "    if pd.isna(text):\n",
    "        return \"\"\n",
    "    \n",
    "    text = str(text).lower()\n",
    "    \n",
    "    # Remove boilerplate\n",
    "    boilerplate_patterns = [\n",
    "        r'^i am writing to file a complaint',\n",
    "        r'^i am filing this complaint',\n",
    "        r'^this is a complaint regarding',\n",
    "        r'^i would like to file a complaint'\n",
    "    ]\n",
    "    for pattern in boilerplate_patterns:\n",
    "        text = re.sub(pattern, '', text)\n",
    "    \n",
    "    # Remove unwanted characters (preserve basic punctuation)\n",
    "    text = re.sub(r'[^\\w\\s\\.\\,\\!\\?\\-\\:]', '', text)\n",
    "    \n",
    "    # Tokenize, remove stopwords, lemmatize\n",
    "    tokens = text.split()\n",
    "    tokens = [lemmatizer.lemmatize(word) for word in tokens if word not in stop_words]\n",
    "    \n",
    "    # Rejoin and cleanup whitespace\n",
    "    cleaned = ' '.join(tokens)\n",
    "    cleaned = re.sub(r'\\s+', ' ', cleaned).strip()\n",
    "    \n",
    "    return cleaned\n",
    "print(f\"\\n13. Cleaning Narrative Text:\")\n",
    "filtered_df['cleaned_narrative'] = filtered_df['Consumer complaint narrative'].apply(clean_narrative)\n",
    "\n",
    "# Filter: Remove very short narratives (<10 words)\n",
    "word_counts = filtered_df['cleaned_narrative'].apply(lambda x: len(x.split()))\n",
    "filtered_df = filtered_df[word_counts >= 10].copy()\n",
    "print(f\"After removing narratives with < 10 words: {len(filtered_df):,} rows\")\n",
    "\n"
   ]
  },
  {
   "cell_type": "markdown",
   "id": "c119c46e",
   "metadata": {},
   "source": [
    "##  Step 12: Exploratory Data Visualization\n",
    "\n",
    "These visualizations provide insights into the filtered complaints data across our five target product categories: Credit card, Personal loan, BNPL, Savings account, and Money transfers.\n",
    "###  1. Number of Complaints by Product Category\n",
    "\n",
    "This bar chart shows how complaints are distributed across the five target product categories after filtering and cleaning.\n",
    "\n"
   ]
  },
  {
   "cell_type": "code",
   "execution_count": 25,
   "id": "3273dcec",
   "metadata": {},
   "outputs": [
    {
     "data": {
      "image/png": "[encoded data removed]",
      "text/plain": [
       "<Figure size 800x600 with 1 Axes>"
      ]
     },
     "metadata": {},
     "output_type": "display_data"
    }
   ],
   "source": [
    "# Plot\n",
    "plt.figure(figsize=(8, 6))\n",
    "category_counts = filtered_df['Product_Category'].value_counts()\n",
    "bars = plt.bar(range(len(category_counts)), category_counts.values)\n",
    "plt.title('Complaints by Product Category')\n",
    "plt.xlabel('Product Category')\n",
    "plt.ylabel('Number of Complaints')\n",
    "plt.xticks(range(len(category_counts)), category_counts.index, rotation=45, ha='right')\n",
    "\n",
    "# Add value labels\n",
    "for i, bar in enumerate(bars):\n",
    "    height = bar.get_height()\n",
    "    plt.text(bar.get_x() + bar.get_width()/2., height + 100,\n",
    "             f'{int(height):,}', ha='center', va='bottom')\n",
    "\n",
    "plt.tight_layout()\n",
    "plt.show()"
   ]
  },
  {
   "cell_type": "markdown",
   "id": "da2dde1c",
   "metadata": {},
   "source": [
    "### Narrative Length Distribution\n",
    "This histogram shows the distribution of word counts in the `Consumer complaint narrative` column. It helps determine the typical length of narratives, which is critical for setting chunk sizes in Task 2’s text preprocessing and embedding steps.\n"
   ]
  },
  {
   "cell_type": "code",
   "execution_count": 18,
   "id": "85b6861a",
   "metadata": {},
   "outputs": [
    {
     "data": {
      "image/png": "[encoded data removed]",
      "text/plain": [
       "<Figure size 800x600 with 1 Axes>"
      ]
     },
     "metadata": {},
     "output_type": "display_data"
    }
   ],
   "source": [
    "# Plot\n",
    "plt.figure(figsize=(8, 6))\n",
    "word_counts = filtered_df['Consumer complaint narrative'].fillna('').str.split().str.len()\n",
    "plt.hist(word_counts, bins=30, alpha=0.7, color='skyblue', edgecolor='black')\n",
    "plt.title('Distribution of Narrative Lengths')\n",
    "plt.xlabel('Word Count')\n",
    "plt.ylabel('Frequency')\n",
    "plt.axvline(word_counts.mean(), color='red', linestyle='--', \n",
    "            label=f'Mean: {word_counts.mean():.0f}')\n",
    "plt.axvline(word_counts.median(), color='green', linestyle='--', \n",
    "            label=f'Median: {word_counts.median():.0f}')\n",
    "plt.legend()\n",
    "\n",
    "plt.tight_layout()\n",
    "plt.show()"
   ]
  },
  {
   "cell_type": "code",
   "execution_count": 19,
   "id": "de46ebdf",
   "metadata": {},
   "outputs": [
    {
     "name": "stdout",
     "output_type": "stream",
     "text": [
      "\n",
      "10. Final Dataset Summary:\n",
      "Total complaints: 459,138\n",
      "Products included: 20\n",
      "Product breakdown:\n",
      "  - Checking or savings account: 136,980\n",
      "  - Credit card or prepaid card: 107,066\n",
      "  - Money transfer, virtual currency, or money service: 95,330\n",
      "  - Credit card: 79,107\n",
      "  - Credit reporting or other personal consumer reports: 11,420\n",
      "  - Bank account or service: 10,875\n",
      "  - Payday loan, title loan, or personal loan: 4,425\n",
      "  - Debt collection: 4,130\n",
      "  - Credit reporting, credit repair services, or other personal consumer reports: 3,050\n",
      "  - Payday loan, title loan, personal loan, or advance loan: 2,145\n",
      "  - Payday loan: 1,699\n",
      "  - Money transfers: 1,476\n",
      "  - Mortgage: 945\n",
      "  - Vehicle loan or lease: 195\n",
      "  - Student loan: 128\n",
      "  - Credit reporting: 80\n",
      "  - Consumer Loan: 51\n",
      "  - Debt or credit management: 19\n",
      "  - Prepaid card: 16\n",
      "  - Virtual currency: 1\n",
      "  - Other financial service: 0\n",
      "\n",
      "Final narrative statistics:\n",
      "Mean word count: 116.5\n",
      "Median word count: 74.0\n",
      "Min word count: 10\n",
      "Max word count: 3889\n"
     ]
    }
   ],
   "source": [
    " #Step 13: Final dataset summary\n",
    "print(f\"\\n10. Final Dataset Summary:\")\n",
    "print(f\"Total complaints: {len(filtered_df):,}\")\n",
    "print(f\"Products included: {filtered_df['Product'].nunique()}\")\n",
    "print(f\"Product breakdown:\")\n",
    "final_product_counts = filtered_df['Product'].value_counts()\n",
    "for product, count in final_product_counts.items():\n",
    "    print(f\"  - {product}: {count:,}\")\n",
    "\n",
    "# Check final narrative lengths\n",
    "final_word_counts = filtered_df['cleaned_narrative'].apply(lambda x: len(x.split()))\n",
    "print(f\"\\nFinal narrative statistics:\")\n",
    "print(f\"Mean word count: {final_word_counts.mean():.1f}\")\n",
    "print(f\"Median word count: {final_word_counts.median():.1f}\")\n",
    "print(f\"Min word count: {final_word_counts.min()}\")\n",
    "print(f\"Max word count: {final_word_counts.max()}\")"
   ]
  },
  {
   "cell_type": "code",
   "execution_count": 20,
   "id": "1a59a698",
   "metadata": {},
   "outputs": [
    {
     "name": "stdout",
     "output_type": "stream",
     "text": [
      "\n",
      "11. Saving Cleaned Dataset:\n",
      "Cleaned dataset saved to 'filtered_complaints.csv'\n",
      "Final dataset shape: (459138, 10)\n",
      "\n",
      "=== Task 1 Complete ===\n"
     ]
    }
   ],
   "source": [
    "# Step 14: Save the cleaned dataset\n",
    "print(f\"\\n11. Saving Cleaned Dataset:\")\n",
    "output_cols = [\n",
    "    'Date received', 'Product', 'Sub-product', 'Issue', 'Sub-issue',\n",
    "    'Consumer complaint narrative', 'cleaned_narrative', 'Company',\n",
    "    'State', 'Complaint ID'\n",
    "]\n",
    "\n",
    "# Only keep columns that exist in the dataset\n",
    "final_cols = [col for col in output_cols if col in filtered_df.columns]\n",
    "final_df = filtered_df[final_cols].copy()\n",
    "\n",
    "# Save to CSV\n",
    "final_df.to_csv('../data/processed/filtered_complaints.csv', index=False)\n",
    "print(f\"Cleaned dataset saved to 'filtered_complaints.csv'\")\n",
    "print(f\"Final dataset shape: {final_df.shape}\")\n",
    "\n",
    "print(f\"\\n=== Task 1 Complete ===\")"
   ]
  }
 ],
 "metadata": {
  "kernelspec": {
   "display_name": "venv",
   "language": "python",
   "name": "python3"
  },
  "language_info": {
   "codemirror_mode": {
    "name": "ipython",
    "version": 3
   },
   "file_extension": ".py",
   "mimetype": "text/x-python",
   "name": "python",
   "nbconvert_exporter": "python",
   "pygments_lexer": "ipython3",
   "version": "3.10.0"
  }
 },
 "nbformat": 4,
 "nbformat_minor": 5
}
